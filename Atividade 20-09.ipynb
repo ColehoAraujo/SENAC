{
 "cells": [
  {
   "cell_type": "code",
   "execution_count": 1,
   "metadata": {},
   "outputs": [],
   "source": [
    "minhaLista = [76, 92.3, \"oi\", True, 4, 76] #criação da lista"
   ]
  },
  {
   "cell_type": "code",
   "execution_count": 2,
   "metadata": {},
   "outputs": [],
   "source": [
    "minhaLista += [\"pitomba\", 76] #A) inserindo pitomba e 76 no final lista"
   ]
  },
  {
   "cell_type": "code",
   "execution_count": 3,
   "metadata": {},
   "outputs": [],
   "source": [
    "minhaLista = minhaLista[:2] + [\"Cibele\"] + minhaLista[2:] #B) inserindo cibele na posição de índice 2\n",
    "#na próxima célula o 99 vai pro inicio da lista, então \"Cibelle\" vai virar indice 3 no final"
   ]
  },
  {
   "cell_type": "code",
   "execution_count": 4,
   "metadata": {},
   "outputs": [],
   "source": [
    "minhaLista = [99] + minhaLista #C) inserindo 99 no início da lista"
   ]
  },
  {
   "cell_type": "code",
   "execution_count": null,
   "metadata": {},
   "outputs": [],
   "source": [
    "#D)Encontrar o índice de \"oi\", método listagem\n",
    "valor_procurado = \"oi\"\n",
    "\n",
    "# Criando uma lista de índices para me orientar\n",
    "indices = [0, 1, 2, 3, 4, 5]\n",
    "\n",
    "# Usando compreensão lógica para a lista a fim de eu encontrar o índice\n",
    "indice = [i for i in indices if minhaLista[i] == valor_procurado]\n",
    "\n",
    "# Se encontrado o resultado, pegamos o primeiro índice; caso contrário, -1, então repetimos\n",
    "resultado = indice[0] if indice else -1\n",
    "\n",
    "print(\"O índice de\", valor_procurado, \"é:\", resultado)\n"
   ]
  },
  {
   "cell_type": "code",
   "execution_count": null,
   "metadata": {},
   "outputs": [],
   "source": [
    "#D)Encontrar o índice de \"oi\", método condição\n",
    "valor_procurado = \"oi\"\n",
    "\n",
    "# Inicializa o índice pra operação\n",
    "indice = -1  # Valor padrão caso não encontre o maldito\n",
    "\n",
    "# Comparações básicas afim de achar o índice\n",
    "if minhaLista[0] == valor_procurado:\n",
    "    indice = 0\n",
    "elif minhaLista[1] == valor_procurado:\n",
    "    indice = 1\n",
    "elif minhaLista[2] == valor_procurado:\n",
    "    indice = 2\n",
    "elif minhaLista[3] == valor_procurado:\n",
    "    indice = 3\n",
    "elif minhaLista[4] == valor_procurado:\n",
    "    indice = 4\n",
    "elif minhaLista[5] == valor_procurado:\n",
    "    indice = 5\n",
    "\n",
    "# Resultado do maldito oi\n",
    "print(\"O índice de\", valor_procurado, \"é:\", indice)\n"
   ]
  },
  {
   "cell_type": "code",
   "execution_count": null,
   "metadata": {},
   "outputs": [],
   "source": [
    "#D)Encontrar o índice de \"oi\", método comparativo\n",
    "valor_procurado = \"oi\"\n",
    "\n",
    "# Comparações diretas para encontrar o índice de oi\n",
    "indice = -1  # Valor padrão caso não encontre o maldito\n",
    "\n",
    "indice = (0 * (minhaLista[0] == valor_procurado) + \n",
    "          1 * (minhaLista[1] == valor_procurado) + \n",
    "          2 * (minhaLista[2] == valor_procurado) + \n",
    "          3 * (minhaLista[3] == valor_procurado) + \n",
    "          4 * (minhaLista[4] == valor_procurado) + \n",
    "          5 * (minhaLista[5] == valor_procurado))\n",
    "\n",
    "print(\"O índice de\", valor_procurado, \"é:\", indice)\n"
   ]
  },
  {
   "cell_type": "code",
   "execution_count": 5,
   "metadata": {},
   "outputs": [],
   "source": [
    "minhaLista = [item for item in minhaLista if item != True] #E) removendo True da lista"
   ]
  },
  {
   "cell_type": "code",
   "execution_count": 6,
   "metadata": {},
   "outputs": [
    {
     "name": "stdout",
     "output_type": "stream",
     "text": [
      "[99, 76, 92.3, 'Cibele', 'oi', 4, 76, 'pitomba', 76]\n"
     ]
    }
   ],
   "source": [
    "print(minhaLista)"
   ]
  }
 ],
 "metadata": {
  "kernelspec": {
   "display_name": "Python 3",
   "language": "python",
   "name": "python3"
  },
  "language_info": {
   "codemirror_mode": {
    "name": "ipython",
    "version": 3
   },
   "file_extension": ".py",
   "mimetype": "text/x-python",
   "name": "python",
   "nbconvert_exporter": "python",
   "pygments_lexer": "ipython3",
   "version": "3.12.6"
  }
 },
 "nbformat": 4,
 "nbformat_minor": 2
}
